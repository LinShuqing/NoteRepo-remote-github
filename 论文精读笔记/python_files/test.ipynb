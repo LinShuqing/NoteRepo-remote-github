{
 "cells": [
  {
   "cell_type": "code",
   "execution_count": 1,
   "metadata": {},
   "outputs": [],
   "source": [
    "import math\n",
    "# import scipy.stats as st"
   ]
  },
  {
   "cell_type": "code",
   "execution_count": 2,
   "metadata": {},
   "outputs": [],
   "source": [
    "def pdf(x, mean, var):\n",
    "    return math.exp(-(x - mean) ** 2 / (2 * var)) / math.sqrt(2 * math.pi * var)"
   ]
  },
  {
   "cell_type": "code",
   "execution_count": 3,
   "metadata": {},
   "outputs": [
    {
     "name": "stdout",
     "output_type": "stream",
     "text": [
      "7.365402806066466\n",
      "0.4478906058968606\n",
      "0.9426758241011309\n",
      "0.05732417589886907\n"
     ]
    }
   ],
   "source": [
    "a=pdf(1.72, 1.7, 0.0025)\n",
    "b=pdf(1.72, 1.6, 0.0025)\n",
    "print(a)\n",
    "print(b)\n",
    "print(a/(a+b))\n",
    "print(b/(a+b))"
   ]
  }
 ],
 "metadata": {
  "kernelspec": {
   "display_name": "Python 3.10.0 ('torch_py310')",
   "language": "python",
   "name": "python3"
  },
  "language_info": {
   "codemirror_mode": {
    "name": "ipython",
    "version": 3
   },
   "file_extension": ".py",
   "mimetype": "text/x-python",
   "name": "python",
   "nbconvert_exporter": "python",
   "pygments_lexer": "ipython3",
   "version": "3.10.4"
  },
  "orig_nbformat": 4,
  "vscode": {
   "interpreter": {
    "hash": "2dc6ed5970b071b71f1a8417dc257159860295f86e0861f2a4576fbc19626d21"
   }
  }
 },
 "nbformat": 4,
 "nbformat_minor": 2
}
